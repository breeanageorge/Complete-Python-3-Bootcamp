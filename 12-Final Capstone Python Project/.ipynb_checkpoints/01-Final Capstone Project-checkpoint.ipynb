{
 "cells": [
  {
   "cell_type": "markdown",
   "metadata": {
    "collapsed": true
   },
   "source": [
    "# Final Capstone Projects\n",
    "\n",
    "Please refer to the [**Final Capstone Projects**](http://nbviewer.jupyter.org/github/jmportilla/Complete-Python-Bootcamp/tree/master/Final%20Capstone%20Projects/) folder to get all the info on final capstone project ideas and possible solutions!"
   ]
  },
  {
   "cell_type": "markdown",
   "metadata": {},
   "source": [
    "**Find PI to the Nth Digit** - Enter a number and have the program generate π (pi) up to that many decimal places. Keep a limit to how far the program will go."
   ]
  },
  {
   "cell_type": "code",
   "execution_count": 40,
   "metadata": {},
   "outputs": [
    {
     "name": "stdout",
     "output_type": "stream",
     "text": [
      "Please input a number of decimal places (must be 48 or lower): gfgf\n",
      "Too low or high!\n",
      "Please input a number of decimal places (must be 48 or lower): 88\n",
      "Too low or high!\n",
      "Please input a number of decimal places (must be 48 or lower): 13\n",
      "3.1415926535898\n"
     ]
    }
   ],
   "source": [
    "import math\n",
    "\n",
    "def pi_digit(n):\n",
    "    return '{:.{}f}'.format(math.pi, n)\n",
    "\n",
    "while True:\n",
    "    try:\n",
    "        user_in = int(input(\"Please input a number of decimal places (must be 48 or lower): \"))\n",
    "        if user_in < 0 or user_in > 48:\n",
    "            raise ValueError\n",
    "    except ValueError:\n",
    "        print(\"Too low or high!\")\n",
    "        continue\n",
    "    except:\n",
    "        print(\"Not a number!\")\n",
    "        continue\n",
    "    else:\n",
    "        print(pi_digit(user_in))\n",
    "        break\n",
    "\n",
    "\n"
   ]
  },
  {
   "cell_type": "code",
   "execution_count": null,
   "metadata": {},
   "outputs": [],
   "source": []
  }
 ],
 "metadata": {
  "kernelspec": {
   "display_name": "Python 3",
   "language": "python",
   "name": "python3"
  },
  "language_info": {
   "codemirror_mode": {
    "name": "ipython",
    "version": 3
   },
   "file_extension": ".py",
   "mimetype": "text/x-python",
   "name": "python",
   "nbconvert_exporter": "python",
   "pygments_lexer": "ipython3",
   "version": "3.7.3"
  }
 },
 "nbformat": 4,
 "nbformat_minor": 1
}
