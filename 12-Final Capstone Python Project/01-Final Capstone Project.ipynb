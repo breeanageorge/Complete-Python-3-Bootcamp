{
 "cells": [
  {
   "cell_type": "markdown",
   "metadata": {
    "collapsed": true
   },
   "source": [
    "# Final Capstone Projects\n",
    "\n",
    "Please refer to the [**Final Capstone Projects**](http://nbviewer.jupyter.org/github/jmportilla/Complete-Python-Bootcamp/tree/master/Final%20Capstone%20Projects/) folder to get all the info on final capstone project ideas and possible solutions!"
   ]
  },
  {
   "cell_type": "markdown",
   "metadata": {},
   "source": [
    "**Find PI to the Nth Digit** - Enter a number and have the program generate π (pi) up to that many decimal places. Keep a limit to how far the program will go."
   ]
  },
  {
   "cell_type": "code",
   "execution_count": 19,
   "metadata": {},
   "outputs": [
    {
     "data": {
      "text/plain": [
       "'3.1415926535897931159979635'"
      ]
     },
     "execution_count": 19,
     "metadata": {},
     "output_type": "execute_result"
    }
   ],
   "source": [
    "import math\n",
    "\n",
    "def pi_digit(n):\n",
    "    if n < 0 or n > 48:\n",
    "        return \"Input too high or low. Max is 48.\"\n",
    "    else:\n",
    "        return '{:.{}f}'.format(math.pi, n)\n",
    "\n",
    "pi_digit(25)"
   ]
  },
  {
   "cell_type": "markdown",
   "metadata": {},
   "source": [
    "**Find e to the Nth Digit** - Just like the previous problem, but with e instead of π (pi). Enter a number and have the program generate e up to that many decimal places. Keep a limit to how far the program will go."
   ]
  },
  {
   "cell_type": "code",
   "execution_count": 21,
   "metadata": {},
   "outputs": [
    {
     "data": {
      "text/plain": [
       "'2.7182818284590450907955983'"
      ]
     },
     "execution_count": 21,
     "metadata": {},
     "output_type": "execute_result"
    }
   ],
   "source": [
    "import math\n",
    "\n",
    "def e_digit(n):\n",
    "    if n < 0 or n > 51:\n",
    "        return \"Input too high or low. Max is 51.\"\n",
    "    else:\n",
    "        return '{:.{}f}'.format(math.e, n)\n",
    "\n",
    "e_digit(25)"
   ]
  },
  {
   "cell_type": "markdown",
   "metadata": {},
   "source": [
    "**Fibonacci Sequence** - Enter a number and have the program generate the Fibonacci sequence to that number or to the Nth number."
   ]
  },
  {
   "cell_type": "code",
   "execution_count": 27,
   "metadata": {},
   "outputs": [
    {
     "data": {
      "text/plain": [
       "[1, 1, 2, 3, 5, 8, 13, 21, 34, 55]"
      ]
     },
     "execution_count": 27,
     "metadata": {},
     "output_type": "execute_result"
    }
   ],
   "source": [
    "def fib_seq(n):\n",
    "    a = 1\n",
    "    b = 1\n",
    "    \n",
    "    for num in range(n):\n",
    "        yield a\n",
    "        a,b = b,a+b\n",
    "        \n",
    "#for x in fib_seq(10):\n",
    "#    print(x)\n",
    "list(fib_seq(10))"
   ]
  },
  {
   "cell_type": "markdown",
   "metadata": {},
   "source": [
    "**Prime Factorization** - Have the user enter a number and find all Prime Factors (if there are any) and display them."
   ]
  },
  {
   "cell_type": "code",
   "execution_count": null,
   "metadata": {},
   "outputs": [],
   "source": [
    "def prime_factor():\n",
    "    while True:\n",
    "        try:\n",
    "            n = int(input(\"Please enter a number: \"))\n",
    "        except:\n",
    "            print(\"Invalid input!\")\n",
    "            continue\n",
    "        else:\n",
    "            break\n",
    "    a = 2\n",
    "    vals = []\n",
    "    \n",
    "    if n%2==0:\n",
    "        vals.append(2)\n",
    "    \n",
    "    for num in range(3, n, 2):\n",
    "        if n%num==0:\n",
    "            if vals != []:\n",
    "                for x in vals:\n",
    "                    if num%x!=0:\n",
    "                        vals.append(num)\n",
    "            else:\n",
    "                vals.append(num)\n",
    "    \n",
    "    return vals\n",
    "\n",
    "prime_factor()"
   ]
  },
  {
   "cell_type": "code",
   "execution_count": null,
   "metadata": {},
   "outputs": [],
   "source": []
  }
 ],
 "metadata": {
  "kernelspec": {
   "display_name": "Python 3",
   "language": "python",
   "name": "python3"
  },
  "language_info": {
   "codemirror_mode": {
    "name": "ipython",
    "version": 3
   },
   "file_extension": ".py",
   "mimetype": "text/x-python",
   "name": "python",
   "nbconvert_exporter": "python",
   "pygments_lexer": "ipython3",
   "version": "3.7.3"
  }
 },
 "nbformat": 4,
 "nbformat_minor": 1
}
