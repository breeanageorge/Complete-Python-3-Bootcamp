{
 "cells": [
  {
   "cell_type": "markdown",
   "metadata": {},
   "source": [
    "# Milestone Project 2 - Blackjack Game\n",
    "In this milestone project you will be creating a Complete BlackJack Card Game in Python.\n",
    "\n",
    "Here are the requirements:\n",
    "\n",
    "* You need to create a simple text-based [BlackJack](https://en.wikipedia.org/wiki/Blackjack) game\n",
    "* The game needs to have one player versus an automated dealer.\n",
    "* The player can stand or hit.\n",
    "* The player must be able to pick their betting amount.\n",
    "* You need to keep track of the player's total money.\n",
    "* You need to alert the player of wins, losses, or busts, etc...\n",
    "\n",
    "And most importantly:\n",
    "\n",
    "* **You must use OOP and classes in some portion of your game. You can not just use functions in your game. Use classes to help you define the Deck and the Player's hand. There are many right ways to do this, so explore it well!**\n",
    "\n",
    "\n",
    "Feel free to expand this game. Try including multiple players. Try adding in Double-Down and card splits! Remember to you are free to use any resources you want and as always:\n",
    "\n",
    "# HAVE FUN!"
   ]
  },
  {
   "cell_type": "code",
   "execution_count": 30,
   "metadata": {},
   "outputs": [
    {
     "name": "stdout",
     "output_type": "stream",
     "text": [
      "What is your initial bet?15\n",
      "$15 bet placed, $85 left!\n"
     ]
    }
   ],
   "source": [
    "\"\"\"\n",
    "Blackjack Game\n",
    "\"\"\"\n",
    "import random\n",
    "#Variables\n",
    "suites = ['Hearts','Diamonds','Spades','Clubs']\n",
    "card_values = {'Two':2, 'Three':3, 'Four':4, 'Five':5, 'Six':6, 'Seven':7, 'Eight':8, 'Nine':9, 'Ten':10, 'J':10, 'Q':10, 'K':10, 'A':11}\n",
    "deck = []\n",
    "\n",
    "#Object Classes\n",
    "class Card():\n",
    "    def __init__(self, suite, value):\n",
    "        self.suite = suite\n",
    "        self.value = value\n",
    "\n",
    "    def __str__(self):\n",
    "        return f\"{self.value} of {self.suite}\"\n",
    "\n",
    "class Player():\n",
    "    def __init__(self, bank=100, cards=[]):\n",
    "        self.bank = bank\n",
    "        self.cards = cards\n",
    "\n",
    "    def bet(self, amount=0):\n",
    "        self.bank -= amount\n",
    "\n",
    "    def win(self, amount=0):\n",
    "        self.bank += amount\n",
    "        print(f'You win! Bank balance is now ${self.bank}')\n",
    "\n",
    "class Dealer():\n",
    "    def __init__(self, cards=[]):\n",
    "        self.cards = cards\n",
    "\n",
    "#Create Deck\n",
    "for s in suites:\n",
    "    for c in card_values.keys():\n",
    "        deck.append(Card(s,c))\n",
    "\n",
    "#Initiate dealer and player\n",
    "dealer = Dealer()\n",
    "player = Player()\n",
    "\n",
    "#Player bet\n",
    "while True:\n",
    "    try:\n",
    "        player_bet = int(input(\"What is your initial bet?\"))\n",
    "    except:\n",
    "        print(\"Please input a number.\")\n",
    "        continue\n",
    "    else:\n",
    "        if player.bank >= player_bet:\n",
    "            player.bet(player_bet)\n",
    "            print(f'${player_bet} bet placed, ${player.bank} left!')\n",
    "            break\n",
    "        else:\n",
    "            print(f'Funds unavailible, ${player.bank} left')\n",
    "            continue\n"
   ]
  },
  {
   "cell_type": "code",
   "execution_count": 31,
   "metadata": {},
   "outputs": [
    {
     "name": "stdout",
     "output_type": "stream",
     "text": [
      "Ten of Hearts\n",
      "Ten of Hearts\n"
     ]
    }
   ],
   "source": [
    "temp_card = random.randint(0,51)\n",
    "dealer.cards.append(deck[temp_card])\n",
    "print(deck[temp_card])\n",
    "print(dealer.cards[0])"
   ]
  },
  {
   "cell_type": "code",
   "execution_count": 17,
   "metadata": {},
   "outputs": [
    {
     "data": {
      "text/plain": [
       "'Hearts'"
      ]
     },
     "execution_count": 17,
     "metadata": {},
     "output_type": "execute_result"
    }
   ],
   "source": [
    "deck[0].suite"
   ]
  },
  {
   "cell_type": "code",
   "execution_count": 43,
   "metadata": {},
   "outputs": [
    {
     "data": {
      "text/plain": [
       "int"
      ]
     },
     "execution_count": 43,
     "metadata": {},
     "output_type": "execute_result"
    }
   ],
   "source": [
    "dealer_check = 15\n",
    "type(dealer_check)"
   ]
  },
  {
   "cell_type": "code",
   "execution_count": null,
   "metadata": {},
   "outputs": [],
   "source": []
  }
 ],
 "metadata": {
  "kernelspec": {
   "display_name": "Python 3",
   "language": "python",
   "name": "python3"
  },
  "language_info": {
   "codemirror_mode": {
    "name": "ipython",
    "version": 3
   },
   "file_extension": ".py",
   "mimetype": "text/x-python",
   "name": "python",
   "nbconvert_exporter": "python",
   "pygments_lexer": "ipython3",
   "version": "3.7.3"
  }
 },
 "nbformat": 4,
 "nbformat_minor": 1
}
